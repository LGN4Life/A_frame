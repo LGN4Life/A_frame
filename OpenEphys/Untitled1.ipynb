{
 "cells": [
  {
   "cell_type": "code",
   "execution_count": 1,
   "id": "78bdb24e-7e4e-4646-b328-5a9cc806bb8c",
   "metadata": {},
   "outputs": [],
   "source": [
    "import smr"
   ]
  },
  {
   "cell_type": "code",
   "execution_count": 5,
   "id": "3ac3dc30-203e-428a-894c-457a6438cacb",
   "metadata": {},
   "outputs": [
    {
     "data": {
      "text/plain": [
       "<function smr.load_smr_triggers(file_name)>"
      ]
     },
     "execution_count": 5,
     "metadata": {},
     "output_type": "execute_result"
    }
   ],
   "source": [
    "smr.load_smr_triggers"
   ]
  },
  {
   "cell_type": "code",
   "execution_count": 6,
   "id": "c04c3ada-eb5a-4da1-9640-96216eeacded",
   "metadata": {},
   "outputs": [],
   "source": [
    "import os"
   ]
  },
  {
   "cell_type": "code",
   "execution_count": 18,
   "id": "12d5cb8a-44ea-4a1e-aae8-1a504f0328f3",
   "metadata": {},
   "outputs": [],
   "source": [
    "file_directory = 'D:/AwakeData/Python/230413/continuous/experiment_1/recording_0/'  \n",
    "\n",
    "file_directory = 'D:\\\\henry\\\\temp_dir'  "
   ]
  },
  {
   "cell_type": "code",
   "execution_count": 19,
   "id": "4bfe7c4e-646a-4659-a6e7-6884d9ec58cc",
   "metadata": {},
   "outputs": [],
   "source": [
    "os.makedirs(file_directory)"
   ]
  },
  {
   "cell_type": "code",
   "execution_count": 13,
   "id": "72003e04-af52-4384-a8a6-f86c2659c868",
   "metadata": {},
   "outputs": [],
   "source": [
    "os.mkdir('D:\\\\new_directory')"
   ]
  },
  {
   "cell_type": "code",
   "execution_count": null,
   "id": "566c100e-97cf-485b-b3e4-4ca88a786481",
   "metadata": {},
   "outputs": [],
   "source": []
  }
 ],
 "metadata": {
  "kernelspec": {
   "display_name": "Python 3 (ipykernel)",
   "language": "python",
   "name": "python3"
  },
  "language_info": {
   "codemirror_mode": {
    "name": "ipython",
    "version": 3
   },
   "file_extension": ".py",
   "mimetype": "text/x-python",
   "name": "python",
   "nbconvert_exporter": "python",
   "pygments_lexer": "ipython3",
   "version": "3.11.3"
  }
 },
 "nbformat": 4,
 "nbformat_minor": 5
}
