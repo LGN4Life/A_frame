{
 "cells": [
  {
   "cell_type": "code",
   "execution_count": 1,
   "id": "b1cd7724",
   "metadata": {},
   "outputs": [],
   "source": [
    "import smr\n",
    "import numpy as np\n",
    "from open_ephys.analysis import Session\n",
    "import lfp\n",
    "import time\n",
    "import matplotlib.pyplot as plt\n",
    "import pickle\n",
    "import OpenEphys\n",
    "import re\n",
    "import scipy.io\n",
    "import os\n",
    "import re\n",
    "import pdb"
   ]
  },
  {
   "cell_type": "code",
   "execution_count": 2,
   "id": "566b6e25",
   "metadata": {},
   "outputs": [],
   "source": [
    "# define all file paths\n",
    "# open ephy recording directory\n",
    "rec_dir = 'D:\\\\AwakeData\\\\Deep Array\\\\230413\\\\Record Node 101\\\\experiment1\\\\recording4\\\\'\n",
    "# phy path\n",
    "phy_dir = 'C:\\\\Henry\\\\CurrentAwakeData\\\\Phy\\\\deep_array\\\\230413\\\\recording_4\\\\'\n",
    "# recording parameter\n",
    "rec_par_file = 'params.py' \n",
    "# spike times files\n",
    "spike_times_file = 'spike_times.npy'\n",
    "spike_clusters_file = 'spike_clusters.npy'\n",
    "# synch message \n",
    "synch_file = 'sync_messages.txt'\n",
    "\n",
    "# smr info\n",
    "smr_directory = 'D:\\\\AwakeData\\\\Spike2Files\\\\Tomi'\n",
    "smr_file_root = 'tmj_230413'\n",
    "# smr_file_name = 'D:\\\\AwakeData\\\\Matlab\\\\tmj_230413_ori_003\\\\parameters_python.mat'\n",
    "# matlab info\n",
    "mat_directory = 'D:\\\\AwakeData\\\\Matlab\\\\'\n",
    "mat_folder_root = 'tmj_230413'\n",
    "\n",
    "#python directory\n",
    "python_directory = 'D:\\\\AwakeData\\\\Python\\\\230413\\\\'\n",
    "\n",
    "# ttl pulses\n",
    "oe_dir = 'D:\\\\AwakeData\\\\Deep Array\\\\230413\\\\Record Node 101\\\\experiment1\\\\'\n",
    "ttl_directory = 'events\\\\Acquisition_Board-100.Rhythm Data\\TTL\\\\'"
   ]
  },
  {
   "cell_type": "code",
   "execution_count": 3,
   "id": "71ca0b54",
   "metadata": {},
   "outputs": [],
   "source": [
    "def get_matching_smr_files(directory, file_root):\n",
    "    files = []\n",
    "    pattern = re.compile(fr'.*{re.escape(file_root)}.*\\.(smr|smrx)$', re.IGNORECASE)\n",
    "\n",
    "    for root, dirnames, filenames in os.walk(directory):\n",
    "        for filename in filenames:\n",
    "            if pattern.match(filename):\n",
    "                files.append(os.path.join(root, filename))\n",
    "\n",
    "    return files"
   ]
  },
  {
   "cell_type": "code",
   "execution_count": 4,
   "id": "5c739f4b",
   "metadata": {},
   "outputs": [],
   "source": [
    "def get_matching_mat_folders(directory, file_root):\n",
    "    folders = []\n",
    "    pattern = re.compile(fr'.*{re.escape(file_root)}.*', re.IGNORECASE)\n",
    "\n",
    "    for root, dirnames, _ in os.walk(directory):\n",
    "        for dirname in dirnames:\n",
    "            if pattern.match(dirname):\n",
    "                folders.append(dirname)\n",
    "                #folders.append(os.path.join(root, dirname))\n",
    "\n",
    "    return folders"
   ]
  },
  {
   "cell_type": "code",
   "execution_count": 5,
   "id": "b0b91150",
   "metadata": {},
   "outputs": [],
   "source": [
    "def get_folders(directory):\n",
    "    folders = []\n",
    "    for item in os.listdir(directory):\n",
    "        item_path = os.path.join(directory, item)\n",
    "        if os.path.isdir(item_path):\n",
    "            folders.append(item)\n",
    "    return folders"
   ]
  },
  {
   "cell_type": "code",
   "execution_count": 6,
   "id": "2ae03d10",
   "metadata": {},
   "outputs": [],
   "source": [
    "class ttl:\n",
    "    def __init__(self, ttl_directory):\n",
    "        event_dir = 'events\\\\Acquisition_Board-100.Rhythm Data\\TTL\\\\'\n",
    "        self.ttl_directory = ttl_directory\n",
    "        self.acqu_start_time = np.nan\n",
    "        self.Fs = np.nan\n",
    "        self.words  = np.load(ttl_directory + event_dir + 'full_words.npy')\n",
    "        self.states = np.load(ttl_directory + event_dir + 'states.npy')\n",
    "        self.timestamps = np.load(ttl_directory + event_dir + 'timestamps.npy')\n",
    "        self.load_synch()\n",
    "        self.timestamps = self.timestamps - self.acqu_start_time\n",
    "        self.timestamps = self.timestamps.reshape(np.int64(self.timestamps.size/2),2)\n",
    "        self.onset = self.timestamps[:,0]\n",
    "        self.duration = np.diff(self.timestamps)\n",
    "        self.trial_start =  np.where((self.duration > .0029) & (self.duration < .0031))[0]\n",
    "        self.trial_end =  np.where((self.duration > .0059) & (self.duration < .0061))[0]\n",
    "        self.frame =  np.where((self.duration > .0031) & (self.duration < .0039))[0]\n",
    "        file_start = np.where(self.duration > .012)[0]\n",
    "        file_end = np.where((self.duration > .0099) & (self.duration< 0.011))[0]\n",
    "        self.FileMarkers = np.full(shape=(len(file_start), 2), fill_value=-999, dtype=int)\n",
    "        self.file_id = np.full(shape=(len(self.duration), 1), fill_value=-1, dtype=int)\n",
    "        for file_index in range(len(file_start)):\n",
    "           self.FileMarkers[file_index,:] = [file_start[file_index], file_end[file_index]] \n",
    "           # assign each ttl pulse to a file\n",
    "           self.file_id[file_start[file_index]:file_end[file_index]+1,0] = file_index\n",
    "        # for each file assign the frame markers to trials\n",
    "        self.FrameInfo = {'Trial' : np.full(shape=(len(self.frame), 1), fill_value=0, dtype=int)}\n",
    "        for trial_index in range(len(self.trial_start)):\n",
    "            # find trial end\n",
    "            if trial_index < len(self.trial_start)-1:\n",
    "                current_end = self.trial_end[np.where((self.trial_end > self.trial_start[trial_index]) \n",
    "                                       & (self.trial_end < self.trial_start[trial_index+1]))[0]]\n",
    "                \n",
    "            else:\n",
    "                current_end = self.trial_end[np.where((self.trial_end > self.trial_start[trial_index]))[0]]\n",
    "            # print(current_end)\n",
    "            if len(current_end)>0:\n",
    "                current_end = current_end[0]\n",
    "                current_frames = (self.frame > self.trial_start[trial_index]) & (self.frame<current_end)\n",
    "                self.FrameInfo['Trial'][current_frames] = trial_index\n",
    "                # print(f\"start = {self.trial_start[trial_index]}, end = {current_end}\")\n",
    "      \n",
    "    def load_synch(self):\n",
    "        # load sync message\n",
    "        sync_file = self.ttl_directory + 'sync_messages.txt'\n",
    "        with open(sync_file , 'r') as file:\n",
    "            synch_message = file.read()\n",
    "            #print(synch_message)\n",
    "            pattern = r\"Start Time for Acquisition Board \\(100\\) - Rhythm[_\\s]Data @ (\\d+) Hz: (\\d+)\"\n",
    "            match = re.search(pattern, synch_message)\n",
    "            if match:\n",
    "                self.Fs = np.int64(match.group(1))\n",
    "                self.acqu_start_time = np.int64(match.group(2))\n",
    "                self.acqu_start_time = self.acqu_start_time/ self.Fs\n",
    "                #print(\"Frequency:\", self.Fs)  \n",
    "                #print(\"Start Time:\", self.acqu_start_time) \n",
    "            else:\n",
    "                print('no match found in synch file')\n",
    "        return self"
   ]
  },
  {
   "cell_type": "code",
   "execution_count": 16,
   "id": "b18c4f03",
   "metadata": {},
   "outputs": [],
   "source": [
    "def ttl_converstion(matlab_ttl, oe_ttl):\n",
    "    \n",
    "    print(f\"OE pulse count = {len(oe_ttl)}\")\n",
    "    print(f\"matlab pulse count = {len(matlab_ttl)}\")\n",
    "    coefficients = np.polyfit(matlab_ttl, oe_ttl, deg=1)\n",
    "    m = coefficients[0]  # Slope\n",
    "    b = coefficients[1]  # Intercept\n",
    "    return m,b\n",
    "\n",
    "# sync smr times (from matlab) with OE times\n",
    "# for index in range(len(mat_folders)):\n",
    "#     print(mat_folders[index])\n",
    "#     current_mat_file = mat_directory + mat_folders[index] + '\\\\parameters_python.mat'\n",
    "#     current_mat_data = scipy.io.loadmat(current_mat_file)\n",
    "#     trial_info = current_mat_data['TrialInfo']\n",
    "#     intan_info = current_mat_data['IntanInfo']\n",
    "#     print(f\"matlab pulse count = {intan_info.shape[0]}\")\n",
    "#     print(f\"current oe file id = {matlab_ttl[ mat_folders[index]]['oe_id']}\")\n",
    "#     oe_id = matlab_ttl[ mat_folders[index]]['oe_id']\n",
    "#     current_trial_markers = intan_info[:,3] == 2\n",
    "#     current_ttl = ttl_info.file_id == oe_id\n",
    "#     print(f\"OE pulse count = {np.sum(current_ttl)}\")\n",
    "#     coefficients = np.polyfit(intan_info[:,0], ttl_info.timestamps[(current_ttl[:,0]),0], deg=1)\n",
    "#     m = coefficients[0]  # Slope\n",
    "#     b = coefficients[1]  # Intercept\n",
    "#     matlab_ttl[mat_folders[index]]['linear_coeff'] = np.array([m, b])\n",
    "#     print(f\"linear coeff: m = {m}, b = {b}\")\n",
    "#     # using the linear coefficents, transform matlab time into OE time\n",
    "#     if mat_folders[index].find('imgs')!= -1:\n",
    "#         current_frames = intan_info[:,3] == 3\n",
    "#         stim_triggers = intan_info[(current_frames),0:2]\n",
    "#         stim_triggers = m*stim_triggers + b\n",
    "#         image_id = intan_info[(current_frames),4]\n",
    "#         print(f\"current trial count =  {stim_triggers.shape[0]}\")\n",
    "#         # stim_info = np.concatenate(stim_triggers, image_id, axis = 1)\n",
    "#         stim_info =np.column_stack((stim_triggers, image_id))\n",
    "#         matlab_ttl[mat_folders[index]]['stimulus_info'] = stim_info\n",
    "#     else:\n",
    "#         valid_trials = trial_info[:,5] == 1\n",
    "#         stim_triggers = trial_info[valid_trials,3:5]\n",
    "#         stim_triggers = m*stim_triggers + b\n",
    "#         iv = trial_info[valid_trials,2]\n",
    "#         stim_info =np.column_stack((stim_triggers, iv))\n",
    "#         matlab_ttl[mat_folders[index]]['stimulus_info'] = stim_info"
   ]
  },
  {
   "cell_type": "code",
   "execution_count": 7,
   "id": "a80c591b",
   "metadata": {},
   "outputs": [],
   "source": [
    "#load matlab data\n",
    "def load_mat_data(mat_file):\n",
    "    current_mat_data = scipy.io.loadmat(mat_file)\n",
    "    trial_info = current_mat_data['TrialInfo']\n",
    "    intan_info = current_mat_data['IntanInfo']\n",
    "    return trial_info, intan_info"
   ]
  },
  {
   "cell_type": "code",
   "execution_count": 9,
   "id": "d576c117",
   "metadata": {},
   "outputs": [
    {
     "name": "stdout",
     "output_type": "stream",
     "text": [
      "['recording1', 'recording2', 'recording3', 'recording4', 'recording5']\n"
     ]
    }
   ],
   "source": [
    "# get all recording folders in oe_dir\n",
    "\n",
    "recording_folders = get_folders(oe_dir)\n",
    "print(recording_folders)\n",
    "# for folder in recording_folders:\n",
    "#     # Directory path\n",
    "#     python_rec_directory = python_directory + folder\n",
    "\n",
    "#     # Check if directory exists\n",
    "#     if not os.path.exists(python_rec_directory):\n",
    "#         # Create the directory\n",
    "#         os.makedirs(python_rec_directory)\n",
    "#         print(\"Directory created:\", python_rec_directory)\n",
    "#     else:\n",
    "#         print(\"Directory already exists:\", python_rec_directory)\n",
    "        \n",
    "#     python_rec_directory = python_directory + folder + '\\\\parameters'\n",
    "#     if not os.path.exists(python_rec_directory):\n",
    "#         # Create the directory\n",
    "#         os.makedirs(python_rec_directory)\n",
    "#         print(\"Directory created:\", python_rec_directory)\n",
    "#     else:\n",
    "#         print(\"Directory already exists:\", python_rec_directory)"
   ]
  },
  {
   "cell_type": "code",
   "execution_count": 10,
   "id": "9a087ccf",
   "metadata": {},
   "outputs": [],
   "source": [
    "# load recording parameters\n",
    "\n",
    "recording_params = OpenEphys.get_recording_params(phy_dir + rec_par_file)"
   ]
  },
  {
   "cell_type": "code",
   "execution_count": 11,
   "id": "c79bba38",
   "metadata": {},
   "outputs": [
    {
     "name": "stdout",
     "output_type": "stream",
     "text": [
      "tmj_230413_imgs_000\n",
      "Directory already exists: D:\\AwakeData\\Python\\230413\\smr_files\\tmj_230413_imgs_000\n",
      "tmj_230413_imgs_001\n",
      "Directory already exists: D:\\AwakeData\\Python\\230413\\smr_files\\tmj_230413_imgs_001\n",
      "tmj_230413_imgs_002\n",
      "Directory already exists: D:\\AwakeData\\Python\\230413\\smr_files\\tmj_230413_imgs_002\n",
      "tmj_230413_imgs_003\n",
      "Directory already exists: D:\\AwakeData\\Python\\230413\\smr_files\\tmj_230413_imgs_003\n",
      "tmj_230413_ori_000\n",
      "Directory already exists: D:\\AwakeData\\Python\\230413\\smr_files\\tmj_230413_ori_000\n",
      "tmj_230413_ori_001\n",
      "Directory already exists: D:\\AwakeData\\Python\\230413\\smr_files\\tmj_230413_ori_001\n",
      "tmj_230413_ori_002\n",
      "Directory already exists: D:\\AwakeData\\Python\\230413\\smr_files\\tmj_230413_ori_002\n",
      "tmj_230413_ori_003\n",
      "Directory already exists: D:\\AwakeData\\Python\\230413\\smr_files\\tmj_230413_ori_003\n",
      "tmj_230413_ori_004\n",
      "Directory already exists: D:\\AwakeData\\Python\\230413\\smr_files\\tmj_230413_ori_004\n",
      "tmj_230413_tun_000\n",
      "Directory already exists: D:\\AwakeData\\Python\\230413\\smr_files\\tmj_230413_tun_000\n",
      "tmj_230413_tun_001\n",
      "Directory already exists: D:\\AwakeData\\Python\\230413\\smr_files\\tmj_230413_tun_001\n",
      "tmj_230413_tun_002\n",
      "Directory already exists: D:\\AwakeData\\Python\\230413\\smr_files\\tmj_230413_tun_002\n"
     ]
    }
   ],
   "source": [
    "# get matlab folders that match the criteria for being in the experiment\n",
    "\n",
    "# Get the list of matching folders\n",
    "mat_folders = get_matching_mat_folders(mat_directory, mat_folder_root)\n",
    "\n",
    "# Print the matching folders\n",
    "for folder in mat_folders:\n",
    "    print(folder)\n",
    "    # Check if directory exists\n",
    "    python_file_dir = python_directory + 'smr_files\\\\' + folder\n",
    "    if not os.path.exists(python_file_dir):\n",
    "        # Create the directory\n",
    "        os.makedirs(python_file_dir)\n",
    "        print(\"Directory created:\", python_file_dir)\n",
    "    else:\n",
    "        print(\"Directory already exists:\", python_file_dir)\n",
    "        "
   ]
  },
  {
   "cell_type": "code",
   "execution_count": 12,
   "id": "05deec77",
   "metadata": {},
   "outputs": [
    {
     "name": "stdout",
     "output_type": "stream",
     "text": [
      "filename: tmj_230413_imgs_000, pulse count: 35\n",
      "filename: tmj_230413_imgs_001, pulse count: 731\n",
      "filename: tmj_230413_imgs_002, pulse count: 757\n",
      "filename: tmj_230413_imgs_003, pulse count: 839\n",
      "filename: tmj_230413_ori_000, pulse count: 32\n",
      "filename: tmj_230413_ori_001, pulse count: 461\n",
      "filename: tmj_230413_ori_002, pulse count: 495\n",
      "filename: tmj_230413_ori_003, pulse count: 437\n",
      "filename: tmj_230413_ori_004, pulse count: 441\n",
      "filename: tmj_230413_tun_000, pulse count: 138\n",
      "filename: tmj_230413_tun_001, pulse count: 698\n",
      "filename: tmj_230413_tun_002, pulse count: 2156\n",
      "There are NO identical pulse counts for matlab files. Thus, there is a unique matlab file for each OE file\n"
     ]
    }
   ],
   "source": [
    "# determine the number of pulses in each matlab file\n",
    "matlab_ttl = np.full(shape=(len(mat_folders), 3), fill_value=-1, dtype=int)\n",
    "# (:,0) = pulse count, (:,1) = recording#, (:,2) = matching fileID\n",
    "for file_index in range(len(mat_folders)):\n",
    "    current_mat_file = mat_directory + mat_folders[file_index] + '\\\\parameters_python.mat'\n",
    "    # load info from smr recording, stored in matlab file\n",
    "    current_mat_data = scipy.io.loadmat(current_mat_file)\n",
    "    trial_info = current_mat_data['TrialInfo']\n",
    "    intan_info = current_mat_data['IntanInfo']\n",
    "    pulse_count = intan_info.shape[0]\n",
    "    matlab_ttl[file_index,0] = pulse_count\n",
    "    print(f\"filename: {mat_folders[file_index]}, pulse count: {matlab_ttl[file_index,0]}\")\n",
    "\n",
    "is_identical = len(np.unique(matlab_ttl[:,0])) != matlab_ttl.shape[0]\n",
    "\n",
    "if is_identical:\n",
    "    print(\"There are identical pulse counts for matlab files.\")\n",
    "else:\n",
    "    print(\"There are NO identical pulse counts for matlab files. Thus, there is a unique matlab file for each OE file\")"
   ]
  },
  {
   "cell_type": "code",
   "execution_count": 13,
   "id": "8074b58c",
   "metadata": {},
   "outputs": [
    {
     "data": {
      "text/plain": [
       "['tmj_230413_imgs_000',\n",
       " 'tmj_230413_imgs_001',\n",
       " 'tmj_230413_imgs_002',\n",
       " 'tmj_230413_imgs_003',\n",
       " 'tmj_230413_ori_000',\n",
       " 'tmj_230413_ori_001',\n",
       " 'tmj_230413_ori_002',\n",
       " 'tmj_230413_ori_003',\n",
       " 'tmj_230413_ori_004',\n",
       " 'tmj_230413_tun_000',\n",
       " 'tmj_230413_tun_001',\n",
       " 'tmj_230413_tun_002']"
      ]
     },
     "execution_count": 13,
     "metadata": {},
     "output_type": "execute_result"
    }
   ],
   "source": [
    "mat_folders\n"
   ]
  },
  {
   "cell_type": "code",
   "execution_count": 14,
   "id": "ca2c8590",
   "metadata": {},
   "outputs": [
    {
     "data": {
      "text/plain": [
       "array([437,  -1,  -1])"
      ]
     },
     "execution_count": 14,
     "metadata": {},
     "output_type": "execute_result"
    }
   ],
   "source": [
    "matlab_ttl[7,:]"
   ]
  },
  {
   "cell_type": "code",
   "execution_count": 17,
   "id": "aae608a6",
   "metadata": {},
   "outputs": [
    {
     "name": "stdout",
     "output_type": "stream",
     "text": [
      "current match index = 0\n",
      "OE pulse count = 35\n",
      "matlab pulse count = 35\n",
      "saving stim info to D:\\AwakeData\\Python\\230413\\smr_files\\tmj_230413_imgs_000\\stim_info.npy\n",
      "trial count = 12\n",
      "current match index = 4\n",
      "OE pulse count = 32\n",
      "matlab pulse count = 32\n",
      "saving stim info to D:\\AwakeData\\Python\\230413\\smr_files\\tmj_230413_ori_000\\stim_info.npy\n",
      "trial count = 12\n",
      "current match index = 5\n",
      "OE pulse count = 461\n",
      "matlab pulse count = 461\n",
      "saving stim info to D:\\AwakeData\\Python\\230413\\smr_files\\tmj_230413_ori_001\\stim_info.npy\n",
      "trial count = 195\n",
      "current match index = 9\n",
      "OE pulse count = 138\n",
      "matlab pulse count = 138\n",
      "saving stim info to D:\\AwakeData\\Python\\230413\\smr_files\\tmj_230413_tun_000\\stim_info.npy\n",
      "trial count = 49\n",
      "current match index = 6\n",
      "OE pulse count = 495\n",
      "matlab pulse count = 495\n",
      "saving stim info to D:\\AwakeData\\Python\\230413\\smr_files\\tmj_230413_ori_002\\stim_info.npy\n",
      "trial count = 195\n",
      "current match index = 1\n",
      "OE pulse count = 731\n",
      "matlab pulse count = 731\n",
      "saving stim info to D:\\AwakeData\\Python\\230413\\smr_files\\tmj_230413_imgs_001\\stim_info.npy\n",
      "trial count = 462\n",
      "current match index = 2\n",
      "OE pulse count = 757\n",
      "matlab pulse count = 757\n",
      "saving stim info to D:\\AwakeData\\Python\\230413\\smr_files\\tmj_230413_imgs_002\\stim_info.npy\n",
      "trial count = 432\n",
      "current match index = 7\n",
      "OE pulse count = 437\n",
      "matlab pulse count = 437\n",
      "saving stim info to D:\\AwakeData\\Python\\230413\\smr_files\\tmj_230413_ori_003\\stim_info.npy\n",
      "trial count = 195\n",
      "current match index = 10\n",
      "OE pulse count = 698\n",
      "matlab pulse count = 698\n",
      "saving stim info to D:\\AwakeData\\Python\\230413\\smr_files\\tmj_230413_tun_001\\stim_info.npy\n",
      "trial count = 311\n",
      "current match index = 3\n",
      "OE pulse count = 839\n",
      "matlab pulse count = 839\n",
      "saving stim info to D:\\AwakeData\\Python\\230413\\smr_files\\tmj_230413_imgs_003\\stim_info.npy\n",
      "trial count = 366\n",
      "current match index = 8\n",
      "OE pulse count = 441\n",
      "matlab pulse count = 441\n",
      "saving stim info to D:\\AwakeData\\Python\\230413\\smr_files\\tmj_230413_ori_004\\stim_info.npy\n",
      "trial count = 195\n",
      "current match index = 11\n",
      "OE pulse count = 2156\n",
      "matlab pulse count = 2156\n",
      "saving stim info to D:\\AwakeData\\Python\\230413\\smr_files\\tmj_230413_tun_002\\stim_info.npy\n",
      "trial count = 901\n",
      "total file count = 12\n",
      "possible matlab files: 12\n",
      "There are NO identical pulse durations for OE files. Thus, there is a unique matlab file for each OE file\n"
     ]
    }
   ],
   "source": [
    "# determine the number of pulses in each OE file range. Find the matlab file that has the same number of pulses\n",
    "# OE_files\n",
    "# del ttl_info\n",
    "# ttl_info ={}\n",
    "total_file_count = 0;\n",
    "index =0;\n",
    "for folder in recording_folders:\n",
    "    #ttl_info[folder] = {'ttl': ttl(oe_dir+folder+'\\\\')}\n",
    "    ttl_info = ttl(oe_dir+folder+'\\\\')\n",
    "    # count the number of pulses that belong to each file (according to OE)\n",
    "    # unique_oe_files, pulse_counts = np.unique(ttl_info[folder]['ttl'].file_id, return_counts=True)\n",
    "    unique_oe_files, pulse_counts = np.unique(ttl_info.file_id, return_counts=True)\n",
    "    pulse_counts = pulse_counts[unique_oe_files!=-1]\n",
    "    unique_oe_files = unique_oe_files[unique_oe_files!=-1]\n",
    "    matlab_match  = np.where(np.isin(matlab_ttl[:,0], pulse_counts))[0]\n",
    "    for match in matlab_match:\n",
    "        print(f\"current match index = {match}\")\n",
    "        match_index = np.where(np.isin(pulse_counts, matlab_ttl[match,0]))[0]\n",
    "        if len(match_index) == 1:\n",
    "            matlab_ttl[match,2] = unique_oe_files[match_index]\n",
    "            matlab_ttl[match,1] = index            \n",
    "            \n",
    "            # convert matlab times to OE time and save to file\n",
    "            \n",
    "            current_mat_file = mat_directory + mat_folders[match] + '\\\\parameters_python.mat'\n",
    "            trial_info, intan_info = load_mat_data(current_mat_file)\n",
    "            \n",
    "            current_ttl = ttl_info.file_id == unique_oe_files[match_index]\n",
    "            current_ttl = ttl_info.timestamps[(current_ttl[:,0]),0]\n",
    "            #pdb.set_trace()\n",
    "            m,b = ttl_converstion(intan_info[:,0], current_ttl)\n",
    "            if mat_folders[match].find('imgs')!= -1:\n",
    "                \n",
    "                current_frames = intan_info[:,3] == 3\n",
    "                frame_info = intan_info[(current_frames),:]\n",
    "                frame_trials = frame_info[:,2]\n",
    "                frame_trials = frame_trials.astype(int)\n",
    "                frame_trial_outcome = trial_info[frame_trials-1,5]\n",
    "                frame_info = frame_info[(frame_trial_outcome==1),:]\n",
    "                stim_triggers = frame_info[:,0:2]\n",
    "                stim_triggers = m*stim_triggers + b\n",
    "                image_id = frame_info[:,4]\n",
    "                stim_info =np.column_stack((stim_triggers, image_id))\n",
    "                \n",
    "            else:\n",
    "                valid_trials = trial_info[:,5] == 1\n",
    "                stim_triggers = trial_info[valid_trials,3:5]\n",
    "                stim_triggers = m*stim_triggers + b\n",
    "                iv = trial_info[valid_trials,2]\n",
    "                stim_info =np.column_stack((stim_triggers, iv))\n",
    "                \n",
    "            # save stim info to file\n",
    "            python_file_dir = python_directory + 'smr_files\\\\' + mat_folders[match] + '\\\\stim_info.npy'\n",
    "            print(f\"saving stim info to {python_file_dir}\")\n",
    "            print(f\"trial count = {stim_info.shape[0]}\")\n",
    "            np.save(python_file_dir, stim_info)\n",
    "            # pdb.set_trace() \n",
    "        \n",
    "        elif len(match_index) > 1:\n",
    "            matlab_ttl[match,2] = 999\n",
    "            matlab_ttl[match,1] = 999\n",
    "            stim_info = []\n",
    "        \n",
    "        \n",
    "        \n",
    "    if index == 0:\n",
    "        all_pulse_counts = pulse_counts\n",
    "    else:\n",
    "        all_pulse_counts = np.append(all_pulse_counts, pulse_counts)\n",
    "    #print(f\"all pulse counts = {all_pulse_counts}\")\n",
    "    #print(f\"pulse counts for {folder}: {pulse_counts} \")\n",
    "    #print(f\"files for {folder}: {unique_oe_files} \")\n",
    "    total_file_count = total_file_count + len(unique_oe_files)\n",
    "    index +=1\n",
    "    \n",
    "print(f\"total file count = {total_file_count}\")\n",
    "print(f\"possible matlab files: {len(mat_folders)}\")\n",
    "\n",
    "is_identical = len(np.unique(all_pulse_counts)) != len(all_pulse_counts)\n",
    "\n",
    "if is_identical:\n",
    "    print(\"There are identical pulse durations for OE files.\")\n",
    "else:\n",
    "    print(\"There are NO identical pulse durations for OE files. Thus, there is a unique matlab file for each OE file\")\n",
    "    # walk through all the matlab files and determine if it can be matched to the current\n",
    "    # OE recording\n",
    "#     for mat_recording in mat_folders:\n",
    "#         print(f\" current mat file: {mat_recording}\")\n",
    "#         mat_file = mat_directory + mat_recording + '\\\\parameters_python.mat'\n",
    "#         trial_info, intan_info = load_mat_data(mat_file)\n",
    "#         current_mat_data = matlab_ttl[mat_recording]\n",
    "#         current_mat_data = match_pulse_count(current_mat_data, pulse_counts, intan_info)"
   ]
  },
  {
   "cell_type": "code",
   "execution_count": null,
   "id": "c0606481-5a92-414e-a538-42a628c6bf0c",
   "metadata": {},
   "outputs": [],
   "source": [
    "# end of code?"
   ]
  },
  {
   "cell_type": "code",
   "execution_count": null,
   "id": "52293f54-48e4-4261-9b7e-d6e025ab2c9d",
   "metadata": {},
   "outputs": [],
   "source": []
  },
  {
   "cell_type": "code",
   "execution_count": null,
   "id": "1ff75d79-dd8f-45e6-8fe4-1d6f2c563b94",
   "metadata": {},
   "outputs": [],
   "source": []
  },
  {
   "cell_type": "code",
   "execution_count": null,
   "id": "32183bc3-8537-4b71-a7a5-05c8c92fab96",
   "metadata": {},
   "outputs": [],
   "source": []
  },
  {
   "cell_type": "code",
   "execution_count": null,
   "id": "1e491b27-a9d2-4632-9a36-3757a3856337",
   "metadata": {},
   "outputs": [],
   "source": []
  },
  {
   "cell_type": "code",
   "execution_count": null,
   "id": "e2df3a0a-df48-4f81-8406-d6e38bbbf2b0",
   "metadata": {},
   "outputs": [],
   "source": []
  },
  {
   "cell_type": "code",
   "execution_count": null,
   "id": "424e165d-9d61-4350-adae-f7494db8c335",
   "metadata": {},
   "outputs": [],
   "source": []
  },
  {
   "cell_type": "code",
   "execution_count": 19,
   "id": "88a6292c",
   "metadata": {},
   "outputs": [
    {
     "name": "stdout",
     "output_type": "stream",
     "text": [
      "There are NO identical pulse counts for matlab files. Thus, there is a unique matlab file for each OE file\n"
     ]
    }
   ],
   "source": [
    "# when mutiple matlab files with the same number of pulses, we need to compare the inter pulse durations to determine the best\n",
    "# OE fit for each matlab file\n",
    "is_identical = len(np.unique(matlab_ttl[:,0])) != matlab_ttl.shape[0]\n",
    "\n",
    "if ~is_identical:\n",
    "    print(\"There are NO identical pulse counts for matlab files. Thus, there is a unique matlab file for each OE file\")\n",
    "    \n",
    "else:\n",
    "    print(\"There are identical pulse counts for matlab files. Run: compare_pulse_intervals\")\n",
    "    \n",
    "\n",
    "        \n",
    "\n",
    "\n"
   ]
  },
  {
   "cell_type": "code",
   "execution_count": 20,
   "id": "00a28276",
   "metadata": {},
   "outputs": [
    {
     "data": {
      "text/plain": [
       "array([[ 0, -1, -1, -1, -1],\n",
       "       [-1, -1,  0, -1, -1],\n",
       "       [-1, -1, -1,  0, -1],\n",
       "       [-1, -1, -1, -1,  0],\n",
       "       [ 2, -1, -1, -1, -1],\n",
       "       [ 3, -1, -1, -1, -1],\n",
       "       [-1,  0, -1, -1, -1],\n",
       "       [-1, -1, -1,  2, -1],\n",
       "       [-1, -1, -1, -1,  1],\n",
       "       [ 1, -1, -1, -1, -1],\n",
       "       [-1, -1, -1,  1, -1],\n",
       "       [-1, -1, -1, -1,  2]])"
      ]
     },
     "execution_count": 20,
     "metadata": {},
     "output_type": "execute_result"
    }
   ],
   "source": [
    "matlab_match = np.full((matlab_ttl.shape[0],len(recording_folders)),fill_value=-1, dtype = int)\n",
    "# load matlab data\n",
    "for matlab_index in range(matlab_ttl.shape[0]):\n",
    "    current_mat_file = mat_directory + mat_folders[matlab_index] + '\\\\parameters_python.mat'\n",
    "    trial_info, intan_info = load_mat_data(current_mat_file)\n",
    "    # cycle through all the OE files and find the best fit\n",
    "    for oe_index in range(len(recording_folders)):\n",
    "        ttl_info = ttl(oe_dir+recording_folders[oe_index]+'\\\\')\n",
    "        unique_oe_files, pulse_counts = np.unique(ttl_info.file_id, return_counts=True)\n",
    "        pulse_counts = pulse_counts[unique_oe_files!=-1]\n",
    "        unique_oe_files = unique_oe_files[unique_oe_files!=-1]\n",
    "        diff_array = np.full(shape=(len(pulse_counts)), fill_value=np.inf, dtype=float)\n",
    "        for file_index in range(len(pulse_counts)):\n",
    "            if pulse_counts[file_index] == intan_info.shape[0]:\n",
    "                current_oe = ttl_info.file_id == unique_oe_files[file_index]\n",
    "                mat_ipi =  np.diff(intan_info[:,0])\n",
    "                oe_ipi =   np.diff(ttl_info.timestamps[(current_oe[:,0]),0])\n",
    "                diff_array[file_index] = np.abs(np.sum(mat_ipi - oe_ipi))\n",
    "            else:\n",
    "                diff_array[file_index] = np.inf\n",
    "        m = np.argmin(diff_array)\n",
    "        # pdb.set_trace()\n",
    "        if sum(np.isfinite(diff_array)) > 0:\n",
    "            matlab_match[matlab_index, oe_index] = unique_oe_files[m]\n",
    "    \n",
    "            \n",
    "            \n",
    "matlab_match     \n",
    "        \n",
    "                \n",
    "            \n",
    "            "
   ]
  },
  {
   "cell_type": "code",
   "execution_count": 21,
   "id": "dfb37516",
   "metadata": {},
   "outputs": [
    {
     "data": {
      "text/plain": [
       "['tmj_230413_imgs_000',\n",
       " 'tmj_230413_imgs_001',\n",
       " 'tmj_230413_imgs_002',\n",
       " 'tmj_230413_imgs_003',\n",
       " 'tmj_230413_ori_000',\n",
       " 'tmj_230413_ori_001',\n",
       " 'tmj_230413_ori_002',\n",
       " 'tmj_230413_ori_003',\n",
       " 'tmj_230413_ori_004',\n",
       " 'tmj_230413_tun_000',\n",
       " 'tmj_230413_tun_001',\n",
       " 'tmj_230413_tun_002']"
      ]
     },
     "execution_count": 21,
     "metadata": {},
     "output_type": "execute_result"
    }
   ],
   "source": [
    "mat_folders"
   ]
  },
  {
   "cell_type": "code",
   "execution_count": 22,
   "id": "8e4a85a5",
   "metadata": {},
   "outputs": [],
   "source": [
    "# We now know where the the ttl pulses for each file belong\n",
    "# from matlab, we know the following for each intan trigger\n",
    "# intan_info[:,0] = trigger on\n",
    "# intan_info[:,1] = trigger off\n",
    "# intan_info[:,2] = trial number\n",
    "# intan_info[:,3] = pulse type (1 = file_start, trial_start = 2,\n",
    "#        stim_frame = 3, trial_success = 4, trial_reward = 5, file_end = 6\n",
    "# intan_info[:,4] = IV\n",
    "\n",
    "# trial_info(:,0) = Start Time\n",
    "# trial_info(:,1) = End Time\n",
    "# trial_info(:,2) = IV\n",
    "# trial_info(:,3) = Stim On\n",
    "# trial_info(:,4) = Stim Off\n",
    "# trial_info(:,5) = Trial Result  (0 =\n",
    "# aborted, 1 = successful)\n",
    "\n",
    "# for each matlab file (e.g., ori_003), determine the trial info in OE time\n",
    "# matlab_ttl[file_name]['oe_index'] will tell us the file period (as defined by file start to file end markers) that\n",
    "# corresponds to the current matlab file\n",
    "\n",
    "# we then have the current_ttl = ttl_info.file_id == matlab_ttl[file_name]['oe_index']\n",
    "# in the current ttl set:\n",
    "# assign each trial an IV\n",
    "# assign each trial a stim onset and offset from matlab. These numbers need to be converted into OE time\n",
    "# the offset between the ttl pulse and the stim marker is: \n",
    "# stim_offset = trial_info(tn,3) - intan_info[pn,0], where tn = intan_info[pn,2]\n",
    "# the stim times (in OE times) is: stim_oe = current_ttl.timestamps[pn,0] + stim_offset"
   ]
  },
  {
   "cell_type": "code",
   "execution_count": 23,
   "id": "f095d865",
   "metadata": {},
   "outputs": [
    {
     "name": "stdout",
     "output_type": "stream",
     "text": [
      "tmj_230413_imgs_000\n",
      "matlab pulse count = 35\n"
     ]
    },
    {
     "ename": "IndexError",
     "evalue": "only integers, slices (`:`), ellipsis (`...`), numpy.newaxis (`None`) and integer or boolean arrays are valid indices",
     "output_type": "error",
     "traceback": [
      "\u001b[1;31m---------------------------------------------------------------------------\u001b[0m",
      "\u001b[1;31mIndexError\u001b[0m                                Traceback (most recent call last)",
      "Cell \u001b[1;32mIn[23], line 9\u001b[0m\n\u001b[0;32m      7\u001b[0m intan_info \u001b[38;5;241m=\u001b[39m current_mat_data[\u001b[38;5;124m'\u001b[39m\u001b[38;5;124mIntanInfo\u001b[39m\u001b[38;5;124m'\u001b[39m]\n\u001b[0;32m      8\u001b[0m \u001b[38;5;28mprint\u001b[39m(\u001b[38;5;124mf\u001b[39m\u001b[38;5;124m\"\u001b[39m\u001b[38;5;124mmatlab pulse count = \u001b[39m\u001b[38;5;132;01m{\u001b[39;00mintan_info\u001b[38;5;241m.\u001b[39mshape[\u001b[38;5;241m0\u001b[39m]\u001b[38;5;132;01m}\u001b[39;00m\u001b[38;5;124m\"\u001b[39m)\n\u001b[1;32m----> 9\u001b[0m \u001b[38;5;28mprint\u001b[39m(\u001b[38;5;124mf\u001b[39m\u001b[38;5;124m\"\u001b[39m\u001b[38;5;124mcurrent oe file id = \u001b[39m\u001b[38;5;132;01m{\u001b[39;00m\u001b[43mmatlab_ttl\u001b[49m\u001b[43m[\u001b[49m\u001b[38;5;250;43m \u001b[39;49m\u001b[43mmat_folders\u001b[49m\u001b[43m[\u001b[49m\u001b[43mindex\u001b[49m\u001b[43m]\u001b[49m\u001b[43m]\u001b[49m[\u001b[38;5;124m'\u001b[39m\u001b[38;5;124moe_id\u001b[39m\u001b[38;5;124m'\u001b[39m]\u001b[38;5;132;01m}\u001b[39;00m\u001b[38;5;124m\"\u001b[39m)\n\u001b[0;32m     10\u001b[0m oe_id \u001b[38;5;241m=\u001b[39m matlab_ttl[ mat_folders[index]][\u001b[38;5;124m'\u001b[39m\u001b[38;5;124moe_id\u001b[39m\u001b[38;5;124m'\u001b[39m]\n\u001b[0;32m     11\u001b[0m current_trial_markers \u001b[38;5;241m=\u001b[39m intan_info[:,\u001b[38;5;241m3\u001b[39m] \u001b[38;5;241m==\u001b[39m \u001b[38;5;241m2\u001b[39m\n",
      "\u001b[1;31mIndexError\u001b[0m: only integers, slices (`:`), ellipsis (`...`), numpy.newaxis (`None`) and integer or boolean arrays are valid indices"
     ]
    }
   ],
   "source": [
    "# sync smr times (from matlab) with OE times\n",
    "for index in range(len(mat_folders)):\n",
    "    print(mat_folders[index])\n",
    "    current_mat_file = mat_directory + mat_folders[index] + '\\\\parameters_python.mat'\n",
    "    current_mat_data = scipy.io.loadmat(current_mat_file)\n",
    "    trial_info = current_mat_data['TrialInfo']\n",
    "    intan_info = current_mat_data['IntanInfo']\n",
    "    print(f\"matlab pulse count = {intan_info.shape[0]}\")\n",
    "    print(f\"current oe file id = {matlab_ttl[ mat_folders[index]]['oe_id']}\")\n",
    "    oe_id = matlab_ttl[ mat_folders[index]]['oe_id']\n",
    "    current_trial_markers = intan_info[:,3] == 2\n",
    "    current_ttl = ttl_info.file_id == oe_id\n",
    "    print(f\"OE pulse count = {np.sum(current_ttl)}\")\n",
    "    coefficients = np.polyfit(intan_info[:,0], ttl_info.timestamps[(current_ttl[:,0]),0], deg=1)\n",
    "    m = coefficients[0]  # Slope\n",
    "    b = coefficients[1]  # Intercept\n",
    "    matlab_ttl[mat_folders[index]]['linear_coeff'] = np.array([m, b])\n",
    "    print(f\"linear coeff: m = {m}, b = {b}\")\n",
    "    # using the linear coefficents, transform matlab time into OE time\n",
    "    if mat_folders[index].find('imgs')!= -1:\n",
    "        current_frames = intan_info[:,3] == 3\n",
    "        stim_triggers = intan_info[(current_frames),0:2]\n",
    "        stim_triggers = m*stim_triggers + b\n",
    "        image_id = intan_info[(current_frames),4]\n",
    "        print(f\"current trial count =  {stim_triggers.shape[0]}\")\n",
    "        # stim_info = np.concatenate(stim_triggers, image_id, axis = 1)\n",
    "        stim_info =np.column_stack((stim_triggers, image_id))\n",
    "        matlab_ttl[mat_folders[index]]['stimulus_info'] = stim_info\n",
    "    else:\n",
    "        valid_trials = trial_info[:,5] == 1\n",
    "        stim_triggers = trial_info[valid_trials,3:5]\n",
    "        stim_triggers = m*stim_triggers + b\n",
    "        iv = trial_info[valid_trials,2]\n",
    "        stim_info =np.column_stack((stim_triggers, iv))\n",
    "        matlab_ttl[mat_folders[index]]['stimulus_info'] = stim_info\n",
    "    "
   ]
  },
  {
   "cell_type": "code",
   "execution_count": 24,
   "id": "23b869f2",
   "metadata": {},
   "outputs": [
    {
     "name": "stdout",
     "output_type": "stream",
     "text": [
      "(470, 2)\n"
     ]
    },
    {
     "ename": "IndexError",
     "evalue": "only integers, slices (`:`), ellipsis (`...`), numpy.newaxis (`None`) and integer or boolean arrays are valid indices",
     "output_type": "error",
     "traceback": [
      "\u001b[1;31m---------------------------------------------------------------------------\u001b[0m",
      "\u001b[1;31mIndexError\u001b[0m                                Traceback (most recent call last)",
      "Cell \u001b[1;32mIn[24], line 4\u001b[0m\n\u001b[0;32m      2\u001b[0m t \u001b[38;5;241m=\u001b[39m ttl_info\u001b[38;5;241m.\u001b[39mtimestamps[(current_start[:,\u001b[38;5;241m0\u001b[39m]),\u001b[38;5;241m0\u001b[39m:\u001b[38;5;241m2\u001b[39m]\n\u001b[0;32m      3\u001b[0m \u001b[38;5;28mprint\u001b[39m(t\u001b[38;5;241m.\u001b[39mshape)\n\u001b[1;32m----> 4\u001b[0m \u001b[38;5;28mprint\u001b[39m(\u001b[43mmatlab_ttl\u001b[49m\u001b[43m[\u001b[49m\u001b[38;5;124;43m'\u001b[39;49m\u001b[38;5;124;43mtmj_230413_imgs_002\u001b[39;49m\u001b[38;5;124;43m'\u001b[39;49m\u001b[43m]\u001b[49m[\u001b[38;5;124m'\u001b[39m\u001b[38;5;124mstimulus_triggers\u001b[39m\u001b[38;5;124m'\u001b[39m]\u001b[38;5;241m.\u001b[39mshape)\n",
      "\u001b[1;31mIndexError\u001b[0m: only integers, slices (`:`), ellipsis (`...`), numpy.newaxis (`None`) and integer or boolean arrays are valid indices"
     ]
    }
   ],
   "source": [
    "current_start = (ttl_info.file_id == 0) & (ttl_info.duration > .0031) & (ttl_info.duration < .0039)\n",
    "t = ttl_info.timestamps[(current_start[:,0]),0:2]\n",
    "print(t.shape)\n",
    "print(matlab_ttl['tmj_230413_imgs_002']['stimulus_triggers'].shape)"
   ]
  },
  {
   "cell_type": "code",
   "execution_count": 25,
   "id": "eee39dc7",
   "metadata": {},
   "outputs": [
    {
     "data": {
      "text/plain": [
       "2.0"
      ]
     },
     "execution_count": 25,
     "metadata": {},
     "output_type": "execute_result"
    }
   ],
   "source": [
    "image_id[0]\n"
   ]
  },
  {
   "cell_type": "code",
   "execution_count": null,
   "id": "366c85a9",
   "metadata": {},
   "outputs": [],
   "source": [
    "current_mat_file = mat_directory + mat_folders[1] + '\\\\parameters_python.mat'\n",
    "current_mat_data = scipy.io.loadmat(current_mat_file)\n",
    "trial_info = current_mat_data['TrialInfo']\n",
    "intan_info = current_mat_data['IntanInfo']\n",
    "\n",
    "print(trial_info[0,3:5])\n",
    "print(intan_info[0:4,0:2])"
   ]
  },
  {
   "cell_type": "code",
   "execution_count": null,
   "id": "217d7304",
   "metadata": {},
   "outputs": [],
   "source": [
    "matlab_ttl['tmj_230413_ori_003']['stimulus_info'][0:10,:]"
   ]
  },
  {
   "cell_type": "code",
   "execution_count": null,
   "id": "0bbcd2e8",
   "metadata": {},
   "outputs": [],
   "source": [
    "matlab_ttl['tmj_230413_ori_003']['stimulus_info'][0:10,0] - t[0,0]"
   ]
  },
  {
   "cell_type": "code",
   "execution_count": null,
   "id": "0023d8c2",
   "metadata": {},
   "outputs": [],
   "source": [
    "successful_trials = np.where(trial_info[:,5] == 1)[0]\n",
    "current_start = (ttl_info.file_id == 2) & (ttl_info.duration > .0029) & (ttl_info.duration < .0031)\n",
    "t = ttl_info.timestamps[(current_start[:,0]),0:2]\n",
    "print(t.shape)\n",
    "print(matlab_ttl['tmj_230413_ori_003']['stimulus_info'].shape)"
   ]
  },
  {
   "cell_type": "code",
   "execution_count": null,
   "id": "b2642113",
   "metadata": {},
   "outputs": [],
   "source": [
    "trial_info[0,3:5]"
   ]
  },
  {
   "cell_type": "code",
   "execution_count": null,
   "id": "1305e573",
   "metadata": {},
   "outputs": [],
   "source": [
    "mat_folders[1]"
   ]
  },
  {
   "cell_type": "code",
   "execution_count": null,
   "id": "ec7ae2a3",
   "metadata": {},
   "outputs": [],
   "source": []
  }
 ],
 "metadata": {
  "kernelspec": {
   "display_name": "Python 3 (ipykernel)",
   "language": "python",
   "name": "python3"
  },
  "language_info": {
   "codemirror_mode": {
    "name": "ipython",
    "version": 3
   },
   "file_extension": ".py",
   "mimetype": "text/x-python",
   "name": "python",
   "nbconvert_exporter": "python",
   "pygments_lexer": "ipython3",
   "version": "3.11.3"
  }
 },
 "nbformat": 4,
 "nbformat_minor": 5
}
