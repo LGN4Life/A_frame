{
 "cells": [
  {
   "cell_type": "code",
   "execution_count": 1,
   "id": "dd51d24a-ed27-4a9d-a8de-71a7dbac6ce5",
   "metadata": {},
   "outputs": [],
   "source": [
    "import re"
   ]
  },
  {
   "cell_type": "code",
   "execution_count": 2,
   "id": "3de24a7a-ed74-41c3-8853-7065007cbd65",
   "metadata": {},
   "outputs": [],
   "source": [
    "trial_pattern = r'([\\D]+),(([-*\\d+.\\d+]+,*)+)'"
   ]
  },
  {
   "cell_type": "code",
   "execution_count": 5,
   "id": "37fdfb11-eba3-4f11-b0ab-01bf63a27608",
   "metadata": {},
   "outputs": [
    {
     "data": {
      "text/plain": [
       "[('T', '1,', '1,'),\n",
       " ('ORI', '30.00,', '30.00,'),\n",
       " ('TF', '5,', '5,'),\n",
       " ('SF', '1.0,', '1.0,'),\n",
       " ('CON', '100.0,', '100.0,'),\n",
       " ('PHASE', '0.0,', '0.0,'),\n",
       " ('XYPOS', '5.89,-3.37,', '-3.37,'),\n",
       " ('WH', '5,5,', '5,'),\n",
       " ('SWEEP', '1.0,0.0,0,', '0,')]"
      ]
     },
     "execution_count": 5,
     "metadata": {},
     "output_type": "execute_result"
    }
   ],
   "source": [
    "\n",
    "current_text = \"T,1,ORI,30.00,TF,5,SF,1.0,CON,100.0,PHASE,0.0,XYPOS,5.89,-3.37,WH,5,5,SWEEP,1.0,0.0,0,Condition: Ori\"\n",
    "matches = re.findall(trial_pattern, current_text)\n",
    "matches"
   ]
  },
  {
   "cell_type": "code",
   "execution_count": 7,
   "id": "0808be6f-4582-44c0-b4ea-198fdf36c1ff",
   "metadata": {},
   "outputs": [
    {
     "ename": "NameError",
     "evalue": "name 'j' is not defined",
     "output_type": "error",
     "traceback": [
      "\u001b[1;31m---------------------------------------------------------------------------\u001b[0m",
      "\u001b[1;31mNameError\u001b[0m                                 Traceback (most recent call last)",
      "Cell \u001b[1;32mIn[7], line 1\u001b[0m\n\u001b[1;32m----> 1\u001b[0m \u001b[43mj\u001b[49m\n",
      "\u001b[1;31mNameError\u001b[0m: name 'j' is not defined"
     ]
    }
   ],
   "source": [
    "j"
   ]
  },
  {
   "cell_type": "code",
   "execution_count": null,
   "id": "3ff8c834-31c4-46f5-87bb-42250de3dd30",
   "metadata": {},
   "outputs": [],
   "source": []
  }
 ],
 "metadata": {
  "kernelspec": {
   "display_name": "Python 3 (ipykernel)",
   "language": "python",
   "name": "python3"
  },
  "language_info": {
   "codemirror_mode": {
    "name": "ipython",
    "version": 3
   },
   "file_extension": ".py",
   "mimetype": "text/x-python",
   "name": "python",
   "nbconvert_exporter": "python",
   "pygments_lexer": "ipython3",
   "version": "3.11.3"
  }
 },
 "nbformat": 4,
 "nbformat_minor": 5
}
