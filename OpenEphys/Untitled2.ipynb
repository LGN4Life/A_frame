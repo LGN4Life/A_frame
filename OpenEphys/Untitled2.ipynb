{
 "cells": [
  {
   "cell_type": "code",
   "execution_count": 4,
   "id": "0e34a507-b2e4-415d-87c9-b13981cdc662",
   "metadata": {},
   "outputs": [
    {
     "name": "stdout",
     "output_type": "stream",
     "text": [
      "Matching indices: [0, 1, 2, 4]\n",
      "Matching values of N: [1, 21, 300, 99999]\n"
     ]
    }
   ],
   "source": [
    "import re\n",
    "\n",
    "# Sample list of strings\n",
    "string_list = [\n",
    "    \"Image Series 1 start\",\n",
    "    \"Image Series 21 start\",\n",
    "    \"Image Series 300 start\",\n",
    "    \"random_string\",\n",
    "    \"Image Series 99999 start\"\n",
    "]\n",
    "\n",
    "# Initialize empty lists to store matching indices and N values\n",
    "matching_indices = []\n",
    "matching_values_of_N = []\n",
    "\n",
    "# Iterate through the list to find matches and their index positions\n",
    "for index, s in enumerate(string_list):\n",
    "    match = re.search(r'Image Series (\\d{1,5}) start', s)\n",
    "    if match:\n",
    "        matching_indices.append(index)\n",
    "        matching_values_of_N.append(int(match.group(1)))\n",
    "\n",
    "print(\"Matching indices:\", matching_indices)\n",
    "print(\"Matching values of N:\", matching_values_of_N)"
   ]
  },
  {
   "cell_type": "code",
   "execution_count": null,
   "id": "da767c83-1682-4f9a-a427-d67773c37bc7",
   "metadata": {},
   "outputs": [],
   "source": []
  }
 ],
 "metadata": {
  "kernelspec": {
   "display_name": "Python 3 (ipykernel)",
   "language": "python",
   "name": "python3"
  },
  "language_info": {
   "codemirror_mode": {
    "name": "ipython",
    "version": 3
   },
   "file_extension": ".py",
   "mimetype": "text/x-python",
   "name": "python",
   "nbconvert_exporter": "python",
   "pygments_lexer": "ipython3",
   "version": "3.11.3"
  }
 },
 "nbformat": 4,
 "nbformat_minor": 5
}
