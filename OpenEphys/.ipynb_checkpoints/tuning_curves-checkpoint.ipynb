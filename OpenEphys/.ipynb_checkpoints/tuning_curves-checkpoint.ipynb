{
 "cells": [
  {
   "cell_type": "code",
   "execution_count": 1,
   "id": "3161ec10",
   "metadata": {},
   "outputs": [],
   "source": [
    "import smr\n",
    "import numpy as np\n",
    "from open_ephys.analysis import Session\n",
    "import lfp\n",
    "import time\n",
    "import matplotlib.pyplot as plt\n",
    "import pickle\n",
    "import OpenEphys\n",
    "import re\n",
    "import scipy.io\n",
    "import os\n",
    "import re\n",
    "import pdb\n",
    "import json\n",
    "import kilosort\n",
    "import importlib\n",
    "import Spike2\n",
    "import tuning\n",
    "import UsBox"
   ]
  },
  {
   "cell_type": "code",
   "execution_count": 2,
   "id": "83a159b3",
   "metadata": {},
   "outputs": [],
   "source": [
    "# define all file paths\n",
    "# open ephy recording directory\n",
    "current_recording = 'recording_4'\n",
    "rec_dir = 'D:\\\\AwakeData\\\\Deep Array\\\\230413\\\\Record Node 101\\\\experiment1\\\\' + current_recording +'\\\\'\n",
    "\n",
    "# phy path\n",
    "phy_dir = 'C:\\\\Henry\\\\CurrentAwakeData\\\\Phy\\\\deep_array\\\\230413\\\\' + current_recording + '\\\\'\n",
    "\n",
    "# recording parameter\n",
    "rec_par_file = 'params.py' \n",
    "\n",
    "# spike times files\n",
    "spike_times_file = 'spike_times.npy'\n",
    "spike_clusters_file = 'spike_clusters.npy'\n",
    "current_cluster_number = 140\n",
    "\n",
    "# synch message \n",
    "synch_file = 'sync_messages.txt'\n",
    "\n",
    "# smr info\n",
    "smr_directory = 'D:\\\\AwakeData\\\\Spike2Files\\\\Tomi\\\\'\n",
    "smr_date = '230413'\n",
    "smr_file_root = 'tmj_230413'\n",
    "smr_file_ex = 'ori_003'\n",
    "#smr_file_ex = 'tun_001'\n",
    "\n",
    "smr_par_file = smr_directory + smr_file_root + '_' + smr_file_ex + '.par'\n",
    "    \n",
    "\n",
    "# matlab info\n",
    "mat_directory = 'D:\\\\AwakeData\\\\Matlab\\\\'\n",
    "mat_par_file = 'D:\\\\AwakeData\\\\Matlab\\\\' + smr_file_root + '_' + smr_file_ex + '\\\\parameters_python.mat'\n",
    "baker_info_file = 'D:\\\\AwakeData\\\\Matlab\\\\' + smr_file_root + '_' + smr_file_ex + '\\\\stim_list.json'\n",
    "\n",
    "\n",
    "# ttl pulses\n",
    "oe_dir = 'D:\\\\AwakeData\\\\Deep Array\\\\230413\\\\Record Node 101\\\\experiment1\\\\recording4\\\\'\n",
    "ttl_directory = 'events\\\\Acquisition_Board-100.Rhythm Data\\TTL\\\\'\n",
    "\n",
    "#python folders\n",
    "python_directory = 'D:\\\\AwakeData\\\\Python\\\\' + smr_date  + '\\\\smr_files\\\\' + smr_file_root + '_' + smr_file_ex +'\\\\'\n",
    "python_par_file = python_directory + 'par_file.json'\n",
    "python_figures = python_directory + 'figures\\\\'\n",
    "\n",
    "stim_info_file = python_directory + 'stim_info.npy'"
   ]
  },
  {
   "cell_type": "code",
   "execution_count": 3,
   "id": "343f49bd",
   "metadata": {},
   "outputs": [
    {
     "name": "stdout",
     "output_type": "stream",
     "text": [
      "52074 spikes in cluster # 140\n"
     ]
    }
   ],
   "source": [
    "# load recording parameters\n",
    "\n",
    "recording_params = OpenEphys.get_recording_params(phy_dir + rec_par_file)\n",
    "\n",
    "# load spike times from kilosort\n",
    "\n",
    "spike_times, spike_clusters = kilosort.load_spike_times(phy_dir, recording_params['sample_rate'])\n",
    "\n",
    "# get spikes for current cluster\n",
    "cluster_index = (spike_clusters == current_cluster_number)\n",
    "cluster_spike_times = spike_times[(spike_clusters == current_cluster_number)]\n",
    "cluster_spike_times = cluster_spike_times.reshape(-1, 1)\n",
    "print(f\"{len(cluster_spike_times)} spikes in cluster # {current_cluster_number}\")\n"
   ]
  },
  {
   "cell_type": "code",
   "execution_count": 4,
   "id": "ba0f1fe2",
   "metadata": {},
   "outputs": [
    {
     "data": {
      "text/plain": [
       "(195, 2)"
      ]
     },
     "execution_count": 4,
     "metadata": {},
     "output_type": "execute_result"
    }
   ],
   "source": [
    "stim_times, IV = OpenEphys.get_synced_stim_info(stim_info_file)\n",
    "stim_times.shape"
   ]
  },
  {
   "cell_type": "code",
   "execution_count": 5,
   "id": "72197ce2",
   "metadata": {},
   "outputs": [],
   "source": [
    "importlib.reload(tuning)\n",
    "importlib.reload(UsBox)\n",
    "# steps to process a single smr file\n",
    "tuning_data ={}\n",
    "tuning_data[smr_file_ex] = {}\n",
    "tuning_data[smr_file_ex]\n",
    "# 1. get stim info (times, IV)\n",
    "stim_times, IV = OpenEphys.get_synced_stim_info(stim_info_file)\n",
    "unique_iv = np.unique(IV)\n",
    "\n",
    "# 2. load par file\n",
    "par = Spike2.load_par_file(smr_par_file, python_par_file)\n",
    "\n",
    "# 3. parameters for tuning\n",
    "tuning_param = tuning.build_tuning_param(tf = float(par['Stimulus']['TemporalFrequency']))\n",
    "tuning_data[smr_file_ex]['param'] = tuning_param\n",
    "\n",
    "# 4. Get trial spikes\n",
    "\n",
    "\n",
    "# 4a: sort trials for Baker's files\n",
    "if 'tun_' in baker_info_file:\n",
    "    tuning_param['pref_ori'] = np.nan\n",
    "    print(f\"loading baker's info for {baker_info_file}\")\n",
    "    baker_info, tuning_curves = tuning.baker_sort(baker_info_file)\n",
    "    baker_logical = True\n",
    "#     tuning_curves = [key for key, value in baker_info.items() if np.unique(value).shape[0] > 1]\n",
    "#     if 'ori' in tuning_curves:\n",
    "#         tuning_curves.remove('ori')\n",
    "#         tuning_curves.insert(0, 'ori')\n",
    "    stim_id = np.array(IV -1, dtype = int)\n",
    "    # for each tuning curve, there are only certain trials that are included. For example,\n",
    "    # ori tuning should only include trials where the contrast = max (contrast)\n",
    "    \n",
    "    for tc in tuning_curves:\n",
    "        print(f\"current tuning curve = {tc}\")\n",
    "        \n",
    "        valid_stim_ids = tuning.baker_trial_exclude(tc, baker_info, tuning_param) # a list of stims to be used in the current tuning curve\n",
    "        valid_trials = np.isin(stim_id, valid_stim_ids) # a list of trials used stim belonging to the current tuning curve\n",
    "        baker_times = stim_times[valid_trials,:] # valid stim times for current tuning curve\n",
    "        IV = np.array(baker_info[tc]) #an array of the current IVs, each IV is a unique stimulus \n",
    "        #print(f\"all IV = {IV}\")\n",
    "#         #(unique in the original file creation)\n",
    "#         if tc == 'con':\n",
    "#             pdb.set_trace()\n",
    "        IV = IV[stim_id[valid_trials]]\n",
    "        unique_iv = np.unique(IV)\n",
    "        print(f\"iv = {unique_iv}\")\n",
    "        baker_spikes = tuning.get_trial_spikes(cluster_spike_times, baker_times, tuning_param)\n",
    "        tuning_data[smr_file_ex][tc] = tuning.calculate(baker_times, spike_times, baker_spikes, IV, tuning_param)\n",
    "        tuning_data[smr_file_ex][tc]['iv'] = IV\n",
    "        tuning_data[smr_file_ex][tc]['IV'] = unique_iv\n",
    "        #pdb.set_trace()\n",
    "        if tc == 'ori':\n",
    "            counts = np.bincount(tuning_data[smr_file_ex]['ori']['iv'])\n",
    "            # Find the index of the maximum count\n",
    "            most_common_value = np.argmax(counts)\n",
    "            valid_index = np.where(unique_iv == most_common_value )\n",
    "            tuning_param['pref_ori'] = tuning_data[smr_file_ex]['ori']['IV'][valid_index]\n",
    "            print(f\"pref ori = {tuning_param['pref_ori']}\")\n",
    "#             max_index = np.argmax(tuning_data[smr_file_ex]['ori']['F0'])\n",
    "#             tuning_param['pref_ori'] = tuning_data[smr_file_ex]['ori']['IV'][max_index]\n",
    "    \n",
    "else:\n",
    "    # get file prefix to use as a key\n",
    "    pattern = r'^(.*?)_\\d{3}$'\n",
    "    # Extract x using regular expression\n",
    "    match = re.match(pattern, smr_file_ex)\n",
    "\n",
    "    if match:\n",
    "        key = match.group(1)\n",
    "    else:\n",
    "        key = 'default'\n",
    "    trial_spikes = tuning.get_trial_spikes(cluster_spike_times, stim_times, tuning_param)\n",
    "    baker_logical = False\n",
    "    tuning_data[smr_file_ex][key] = tuning.calculate(stim_times, spike_times, trial_spikes, IV, tuning_param)\n",
    "    unique_iv = np.unique(IV)\n",
    "    tuning_data[smr_file_ex][key]['iv'] = IV\n",
    "    tuning_data[smr_file_ex][key]['IV'] = unique_iv\n",
    "\n",
    "#fig, axs = plt.subplots(1,len(tuning_curves))\n",
    "#plt.plot(tuning_data[smr_file_ex]['ori']['F0'])"
   ]
  },
  {
   "cell_type": "code",
   "execution_count": 6,
   "id": "0dfc51d8",
   "metadata": {},
   "outputs": [
    {
     "data": {
      "text/plain": [
       "[<matplotlib.lines.Line2D at 0x1b7cb6d9cd0>]"
      ]
     },
     "execution_count": 6,
     "metadata": {},
     "output_type": "execute_result"
    },
    {
     "data": {
      "image/png": "[encoded data removed]",
      "text/plain": [
       "<Figure size 640x480 with 1 Axes>"
      ]
     },
     "metadata": {},
     "output_type": "display_data"
    }
   ],
   "source": [
    "plt.plot(tuning_data[smr_file_ex][key]['IV'], tuning_data[smr_file_ex][key]['F0'])\n",
    "plt.plot(tuning_data[smr_file_ex][key]['IV'], tuning_data[smr_file_ex][key]['F1'])"
   ]
  },
  {
   "cell_type": "code",
   "execution_count": 8,
   "id": "1917fd40",
   "metadata": {},
   "outputs": [
    {
     "ename": "KeyError",
     "evalue": "'ori_003'",
     "output_type": "error",
     "traceback": [
      "\u001b[1;31m---------------------------------------------------------------------------\u001b[0m",
      "\u001b[1;31mKeyError\u001b[0m                                  Traceback (most recent call last)",
      "Cell \u001b[1;32mIn[8], line 7\u001b[0m\n\u001b[0;32m      4\u001b[0m \u001b[38;5;66;03m# Iterate over each key and subplot\u001b[39;00m\n\u001b[0;32m      5\u001b[0m \u001b[38;5;28;01mfor\u001b[39;00m i, key \u001b[38;5;129;01min\u001b[39;00m \u001b[38;5;28menumerate\u001b[39m(tuning_data):\n\u001b[0;32m      6\u001b[0m     \u001b[38;5;66;03m# Access the 'F0' values for the current key\u001b[39;00m\n\u001b[1;32m----> 7\u001b[0m     f0 \u001b[38;5;241m=\u001b[39m \u001b[43mtuning_data\u001b[49m\u001b[43m[\u001b[49m\u001b[43msmr_file_ex\u001b[49m\u001b[43m]\u001b[49m\u001b[43m[\u001b[49m\u001b[43mkey\u001b[49m\u001b[43m]\u001b[49m[\u001b[38;5;124m'\u001b[39m\u001b[38;5;124mF0\u001b[39m\u001b[38;5;124m'\u001b[39m]\n\u001b[0;32m      8\u001b[0m     f0_e \u001b[38;5;241m=\u001b[39m tuning_data[smr_file_ex][key][\u001b[38;5;124m'\u001b[39m\u001b[38;5;124mF0_e\u001b[39m\u001b[38;5;124m'\u001b[39m]\n\u001b[0;32m      9\u001b[0m     f1 \u001b[38;5;241m=\u001b[39m tuning_data[smr_file_ex][key][\u001b[38;5;124m'\u001b[39m\u001b[38;5;124mF1\u001b[39m\u001b[38;5;124m'\u001b[39m]\n",
      "\u001b[1;31mKeyError\u001b[0m: 'ori_003'"
     ]
    },
    {
     "data": {
      "image/png": "[encoded data removed]",
      "text/plain": [
       "<Figure size 500x500 with 4 Axes>"
      ]
     },
     "metadata": {},
     "output_type": "display_data"
    }
   ],
   "source": [
    "fig, axs = plt.subplots(2, 2, figsize=(5,5))\n",
    "axs = axs.reshape((4,))\n",
    "index = 0\n",
    "# Iterate over each key and subplot\n",
    "for i, key in enumerate(tuning_curves):\n",
    "    # Access the 'F0' values for the current key\n",
    "    f0 = tuning_data[smr_file_ex][key]['F0']\n",
    "    f0_e = tuning_data[smr_file_ex][key]['F0_e']\n",
    "    f1 = tuning_data[smr_file_ex][key]['F1']\n",
    "    f1_e = tuning_data[smr_file_ex][key]['F1_e']\n",
    "    IV = tuning_data[smr_file_ex][key]['IV']\n",
    "    \n",
    "    f0_h =UsBox.CreateErrorPatch(IV, f0, f0_e, 'b', 0.3)\n",
    "    f1_h =UsBox.CreateErrorPatch(IV, f1, f1_e, 'r', 0.3)\n",
    "    \n",
    "    \n",
    "    # Plot the 'F0' values in the current subplot\n",
    "    axs[i].plot(IV,f0)\n",
    "    axs[i].plot(IV, f1)\n",
    "    axs[i].add_patch(f0_h)\n",
    "    axs[i].add_patch(f1_h)\n",
    "    \n",
    "    # Add labels and title to the current subplot\n",
    "    axs[i].set_xlabel(key)\n",
    "    axs[i].set_ylabel('F0')\n",
    "    axs[i].set_title(f'Tuning Curve for {key}')\n",
    "    index =+ 1\n",
    "\n",
    "# Adjust the spacing between subplots\n",
    "plt.tight_layout()\n",
    "\n",
    "# Show the plot\n",
    "plt.show()"
   ]
  },
  {
   "cell_type": "code",
   "execution_count": 110,
   "id": "fe1e4358",
   "metadata": {},
   "outputs": [
    {
     "data": {
      "text/plain": [
       "['ori', 'con', 'sf', 'tf']"
      ]
     },
     "execution_count": 110,
     "metadata": {},
     "output_type": "execute_result"
    }
   ],
   "source": [
    "tuning_curves"
   ]
  },
  {
   "cell_type": "code",
   "execution_count": null,
   "id": "e89b67bf",
   "metadata": {},
   "outputs": [],
   "source": [
    "# 8 save data and figures\n",
    "plt.plot(unique_iv, tuning_data[smr_file_ex]['F0'])\n",
    "plt.plot(unique_iv, tuning_data[smr_file_ex]['F1'])\n",
    "f0_h =UsBox.CreateErrorPatch(unique_iv, tuning_data[smr_file_ex]['F0'], tuning_data[smr_file_ex]['F0_e'], 'b', 0.3)\n",
    "f1_h =UsBox.CreateErrorPatch(unique_iv, tuning_data[smr_file_ex]['F1'], tuning_data[smr_file_ex]['F1_e'], 'r', 0.3)\n",
    "plt.gca().add_patch(f0_h)\n",
    "plt.gca().add_patch(f1_h)\n",
    "plt.xlabel(\"ori(\" + chr(176) +\")\")\n",
    "plt.ylabel(\"response (spikes)\")\n",
    "plt.savefig(python_figures  + 'cluster_' + str(current_cluster_number) +  '_tuning.pdf')\n"
   ]
  },
  {
   "cell_type": "code",
   "execution_count": null,
   "id": "8521f181",
   "metadata": {},
   "outputs": [],
   "source": [
    "plt.plot(np.mean(CycleHist, axis = 0))"
   ]
  },
  {
   "cell_type": "code",
   "execution_count": null,
   "id": "d24c27a8",
   "metadata": {},
   "outputs": [],
   "source": [
    "baker_info\n",
    "\n",
    "tuning_curves = [key for key, value in baker_info.items() if np.unique(value).shape[0] > 1]\n",
    "print(tuning_curves)"
   ]
  },
  {
   "cell_type": "code",
   "execution_count": null,
   "id": "b7706d7e",
   "metadata": {},
   "outputs": [],
   "source": [
    "np.unique(baker_info['size']).shape"
   ]
  },
  {
   "cell_type": "code",
   "execution_count": null,
   "id": "2ae1b1fc",
   "metadata": {},
   "outputs": [],
   "source": [
    "baker_info"
   ]
  },
  {
   "cell_type": "code",
   "execution_count": null,
   "id": "0c7cee6b",
   "metadata": {},
   "outputs": [],
   "source": []
  }
 ],
 "metadata": {
  "kernelspec": {
   "display_name": "Python 3 (ipykernel)",
   "language": "python",
   "name": "python3"
  },
  "language_info": {
   "codemirror_mode": {
    "name": "ipython",
    "version": 3
   },
   "file_extension": ".py",
   "mimetype": "text/x-python",
   "name": "python",
   "nbconvert_exporter": "python",
   "pygments_lexer": "ipython3",
   "version": "3.11.3"
  }
 },
 "nbformat": 4,
 "nbformat_minor": 5
}
