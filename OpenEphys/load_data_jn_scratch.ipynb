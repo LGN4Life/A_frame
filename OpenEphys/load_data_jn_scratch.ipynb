{
 "cells": [
  {
   "cell_type": "code",
   "execution_count": 62,
   "id": "23f84905",
   "metadata": {},
   "outputs": [],
   "source": [
    "import smr\n",
    "import numpy as np\n",
    "from open_ephys.analysis import Session\n",
    "import lfp\n",
    "import time\n",
    "# import matplotlib.pyplot as plt\n",
    "import pickle\n",
    "import OpenEphys\n",
    "import re"
   ]
  },
  {
   "cell_type": "code",
   "execution_count": 63,
   "id": "1fdbfbb0",
   "metadata": {},
   "outputs": [],
   "source": [
    "data_path = 'D:\\\\AwakeData\\\\Deep Array\\\\230413\\\\'\n",
    "out_path = 'D:\\\\AwakeData\\\\Python\\\\230413\\\\continuous\\\\'"
   ]
  },
  {
   "cell_type": "code",
   "execution_count": 64,
   "id": "92ba6a84",
   "metadata": {},
   "outputs": [],
   "source": [
    "# define parameters for LFP processing\n",
    "params = {\n",
    "    'filter_order': 6,\n",
    "    'stopband_attenuation': 50,\n",
    "    'cutoff_frequency': 250,\n",
    "    'downsample_frequency': 500,\n",
    "    'fs': np.nan,\n",
    "    'ripple': 1,\n",
    "    'scale_data': False,\n",
    "    'sample_per': 300000,\n",
    "    'sample_count': np.nan,\n",
    "    'chan_num': np.nan,\n",
    "}"
   ]
  },
  {
   "cell_type": "code",
   "execution_count": 65,
   "id": "009996f4",
   "metadata": {},
   "outputs": [],
   "source": [
    "session = Session(data_path)"
   ]
  },
  {
   "cell_type": "code",
   "execution_count": 66,
   "id": "e3e10487",
   "metadata": {},
   "outputs": [],
   "source": [
    "params['fs'] = session.recordnodes[0].recordings[0].continuous[0].metadata['sample_rate']"
   ]
  },
  {
   "cell_type": "code",
   "execution_count": 67,
   "id": "dff05512",
   "metadata": {},
   "outputs": [
    {
     "name": "stdout",
     "output_type": "stream",
     "text": [
      "recording1\n",
      "D:\\AwakeData\\Python\\230413\\continuous\\recording1\\\n"
     ]
    },
    {
     "ename": "KeyboardInterrupt",
     "evalue": "",
     "output_type": "error",
     "traceback": [
      "\u001b[1;31m---------------------------------------------------------------------------\u001b[0m",
      "\u001b[1;31mKeyboardInterrupt\u001b[0m                         Traceback (most recent call last)",
      "Cell \u001b[1;32mIn[67], line 21\u001b[0m\n\u001b[0;32m     19\u001b[0m LFP \u001b[38;5;241m=\u001b[39m lfp\u001b[38;5;241m.\u001b[39mlfp(recording\u001b[38;5;241m.\u001b[39mcontinuous[\u001b[38;5;241m0\u001b[39m]\u001b[38;5;241m.\u001b[39msamples[:, chan_index], params[\u001b[38;5;124m'\u001b[39m\u001b[38;5;124mfs\u001b[39m\u001b[38;5;124m'\u001b[39m])\n\u001b[0;32m     20\u001b[0m LFP\u001b[38;5;241m.\u001b[39mfilter \u001b[38;5;241m=\u001b[39m lfp\u001b[38;5;241m.\u001b[39mfilter(params)\n\u001b[1;32m---> 21\u001b[0m \u001b[43mLFP\u001b[49m\u001b[38;5;241;43m.\u001b[39;49m\u001b[43mfilter\u001b[49m\u001b[38;5;241;43m.\u001b[39;49m\u001b[43mcheby2_lowpass\u001b[49m\u001b[43m(\u001b[49m\u001b[43mLFP\u001b[49m\u001b[38;5;241;43m.\u001b[39;49m\u001b[43mY\u001b[49m\u001b[43m)\u001b[49m\n\u001b[0;32m     22\u001b[0m LFP\u001b[38;5;241m.\u001b[39msubsample(params[\u001b[38;5;124m'\u001b[39m\u001b[38;5;124mdownsample_frequency\u001b[39m\u001b[38;5;124m'\u001b[39m])\n\u001b[0;32m     23\u001b[0m chan_string \u001b[38;5;241m=\u001b[39m \u001b[38;5;28mstr\u001b[39m(chan_index)\n",
      "File \u001b[1;32mC:\\Henry\\PythonProjects\\OpenEphys\\Scripts\\lfp.py:57\u001b[0m, in \u001b[0;36mfilter.cheby2_lowpass\u001b[1;34m(self, s)\u001b[0m\n\u001b[0;32m     51\u001b[0m \u001b[38;5;28;01mdef\u001b[39;00m \u001b[38;5;21mcheby2_lowpass\u001b[39m(\u001b[38;5;28mself\u001b[39m, s):\n\u001b[0;32m     52\u001b[0m     \u001b[38;5;66;03m# Create the filter coefficients using a Chebyshev type II filter\u001b[39;00m\n\u001b[0;32m     53\u001b[0m     \u001b[38;5;28mself\u001b[39m\u001b[38;5;241m.\u001b[39mfilter \u001b[38;5;241m=\u001b[39m signal\u001b[38;5;241m.\u001b[39mcheby2(\u001b[38;5;28mself\u001b[39m\u001b[38;5;241m.\u001b[39mfilter_order, \u001b[38;5;28mself\u001b[39m\u001b[38;5;241m.\u001b[39mstopband_attenuation,\n\u001b[0;32m     54\u001b[0m                                 \u001b[38;5;28mself\u001b[39m\u001b[38;5;241m.\u001b[39mcutoff_frequency \u001b[38;5;241m/\u001b[39m \u001b[38;5;28mself\u001b[39m\u001b[38;5;241m.\u001b[39mnyquist_frequency, \u001b[38;5;124m'\u001b[39m\u001b[38;5;124mlow\u001b[39m\u001b[38;5;124m'\u001b[39m,\n\u001b[0;32m     55\u001b[0m                                 \u001b[38;5;28mself\u001b[39m\u001b[38;5;241m.\u001b[39mFs, output\u001b[38;5;241m=\u001b[39m\u001b[38;5;124m'\u001b[39m\u001b[38;5;124msos\u001b[39m\u001b[38;5;124m'\u001b[39m)\n\u001b[1;32m---> 57\u001b[0m     s \u001b[38;5;241m=\u001b[39m \u001b[43msignal\u001b[49m\u001b[38;5;241;43m.\u001b[39;49m\u001b[43msosfilt\u001b[49m\u001b[43m(\u001b[49m\u001b[38;5;28;43mself\u001b[39;49m\u001b[38;5;241;43m.\u001b[39;49m\u001b[43mfilter\u001b[49m\u001b[43m,\u001b[49m\u001b[43m \u001b[49m\u001b[43ms\u001b[49m\u001b[43m)\u001b[49m\n\u001b[0;32m     59\u001b[0m     \u001b[38;5;28;01mreturn\u001b[39;00m \u001b[38;5;28mself\u001b[39m, s\n",
      "File \u001b[1;32mc:\\henry\\pythonprojects\\openephys\\Lib\\site-packages\\scipy\\signal\\_signaltools.py:4301\u001b[0m, in \u001b[0;36msosfilt\u001b[1;34m(sos, x, axis, zi)\u001b[0m\n\u001b[0;32m   4299\u001b[0m x_shape, zi_shape \u001b[38;5;241m=\u001b[39m x\u001b[38;5;241m.\u001b[39mshape, zi\u001b[38;5;241m.\u001b[39mshape\n\u001b[0;32m   4300\u001b[0m x \u001b[38;5;241m=\u001b[39m np\u001b[38;5;241m.\u001b[39mreshape(x, (\u001b[38;5;241m-\u001b[39m\u001b[38;5;241m1\u001b[39m, x\u001b[38;5;241m.\u001b[39mshape[\u001b[38;5;241m-\u001b[39m\u001b[38;5;241m1\u001b[39m]))\n\u001b[1;32m-> 4301\u001b[0m x \u001b[38;5;241m=\u001b[39m np\u001b[38;5;241m.\u001b[39marray(x, dtype, order\u001b[38;5;241m=\u001b[39m\u001b[38;5;124m'\u001b[39m\u001b[38;5;124mC\u001b[39m\u001b[38;5;124m'\u001b[39m)  \u001b[38;5;66;03m# make a copy, can modify in place\u001b[39;00m\n\u001b[0;32m   4302\u001b[0m zi \u001b[38;5;241m=\u001b[39m np\u001b[38;5;241m.\u001b[39mascontiguousarray(np\u001b[38;5;241m.\u001b[39mreshape(zi, (\u001b[38;5;241m-\u001b[39m\u001b[38;5;241m1\u001b[39m, n_sections, \u001b[38;5;241m2\u001b[39m)))\n\u001b[0;32m   4303\u001b[0m sos \u001b[38;5;241m=\u001b[39m sos\u001b[38;5;241m.\u001b[39mastype(dtype, copy\u001b[38;5;241m=\u001b[39m\u001b[38;5;28;01mFalse\u001b[39;00m)\n",
      "\u001b[1;31mKeyboardInterrupt\u001b[0m: "
     ]
    }
   ],
   "source": [
    "time_0 = time.time()\n",
    "for node_index in range(len(session.recordnodes)):\n",
    "\n",
    "    # iterate through all recordings in the current recordnode\n",
    "    for rec_index in range(len(session.recordnodes[node_index].recordings)):\n",
    "        \n",
    "        d =session.recordnodes[0].recordings[rec_index].directory\n",
    "        r_dir = d.rsplit(\"\\\\\", 1)[-1]\n",
    "        print(r_dir)\n",
    "        \n",
    "        recording = session.recordnodes[node_index].recordings[rec_index]\n",
    "        params['sample_count'] = len(recording.continuous[0].sample_numbers)\n",
    "        params['chan_num'] = np.array(recording.continuous[0].samples.shape[1])\n",
    "        time_array = np.zeros(params['chan_num'])\n",
    "        current_out_path = out_path + r_dir +'\\\\'\n",
    "        print(current_out_path)\n",
    "        for chan_index in range(params['chan_num']):\n",
    "            time_array[chan_index] = time.time()\n",
    "            LFP = lfp.lfp(recording.continuous[0].samples[:, chan_index], params['fs'])\n",
    "            LFP.filter = lfp.filter(params)\n",
    "            LFP.filter.cheby2_lowpass(LFP.Y)\n",
    "            LFP.subsample(params['downsample_frequency'])\n",
    "            chan_string = str(chan_index)\n",
    "            file_name = f\"{current_out_path}channel_{chan_index}.pkl\"\n",
    "            breakpoint()\n",
    "            # save data to disk\n",
    "            with open(file_name, 'wb') as f:\n",
    "                pickle.dump(LFP, f)\n",
    "\n",
    "            elapsed_time_seconds = time_array[chan_index] - time_0\n",
    "        print(f\"The elapsed time in seconds is {elapsed_time_seconds}\")"
   ]
  },
  {
   "cell_type": "code",
   "execution_count": null,
   "id": "c4ab1719",
   "metadata": {},
   "outputs": [],
   "source": [
    "# open LFP file \n",
    "file_path = 'D:\\\\AwakeData\\\\Python\\\\230413\\\\continuous\\\\recording4\\\\channel_0.pkl'\n",
    "with open(file_path, 'rb') as file:\n",
    "    lfp_data = pickle.load(file)"
   ]
  },
  {
   "cell_type": "code",
   "execution_count": null,
   "id": "9599f10e",
   "metadata": {},
   "outputs": [],
   "source": [
    "# load recording parameters\n",
    "rec_par_file = 'C:\\\\Henry\\\\CurrentAwakeData\\\\Phy\\\\deep_array\\\\230413\\\\recording_4\\\\params.py'\n",
    "recording_params = OpenEphys.get_recording_params(rec_par_file)\n",
    "\n",
    "# get spike times from kilosort\n",
    "spike_times = np.load('C:\\\\Henry\\\\CurrentAwakeData\\\\Phy\\\\deep_array\\\\230413\\\\recording_4\\\\spike_times.npy')\n",
    "spike_times = spike_times / recording_params['sample_rate']\n",
    "spike_clusters = np.load('C:\\\\Henry\\\\CurrentAwakeData\\\\Phy\\\\deep_array\\\\230413\\\\recording_4\\\\spike_clusters.npy')\n",
    "\n"
   ]
  },
  {
   "cell_type": "code",
   "execution_count": null,
   "id": "c627789a",
   "metadata": {},
   "outputs": [],
   "source": [
    "# load TTL triggers from\n",
    "\n",
    "event_dir = 'D:\\\\AwakeData\\\\Deep Array\\\\230413\\\\Record Node 101\\\\experiment1\\\\recording4\\\\events\\\\Acquisition_Board-100.Rhythm Data\\\\TTL\\\\'\n",
    "ttl_times_file = 'timestamps.npy'\n",
    "\n",
    "ttl_ts = np.load(event_dir + ttl_times_file)\n",
    "\n"
   ]
  },
  {
   "cell_type": "code",
   "execution_count": null,
   "id": "02224b50",
   "metadata": {},
   "outputs": [],
   "source": [
    "ttl_ts"
   ]
  },
  {
   "cell_type": "code",
   "execution_count": null,
   "id": "036caf73",
   "metadata": {},
   "outputs": [],
   "source": [
    "ttl_ts[0]"
   ]
  },
  {
   "cell_type": "code",
   "execution_count": null,
   "id": "e9984eb6",
   "metadata": {},
   "outputs": [],
   "source": [
    "165697280/30000"
   ]
  },
  {
   "cell_type": "code",
   "execution_count": null,
   "id": "c215cb6e",
   "metadata": {},
   "outputs": [],
   "source": [
    "# load sync message\n",
    "synch_file = 'D:\\\\AwakeData\\\\Deep Array\\\\230413\\\\Record Node 101\\\\experiment1\\\\recording4\\\\sync_messages.txt'\n",
    "\n",
    "\n",
    "with open(synch_file , 'r') as file:\n",
    "    synch_message = file.read()"
   ]
  },
  {
   "cell_type": "code",
   "execution_count": null,
   "id": "7f83763c",
   "metadata": {},
   "outputs": [],
   "source": [
    "pattern = r\"Start Time for Acquisition Board \\(100\\) - Rhythm Data @ (\\d+) Hz: (\\d+)\"\n",
    "\n",
    "match = re.search(pattern, synch_message)\n",
    "if match:\n",
    "    Fs = np.int64(match.group(1))\n",
    "    acqu_start_time = np.int64(match.group(2))\n",
    "    acqu_start_time = acqu_start_time/ Fs\n",
    "    print(\"Frequency:\", Fs)  # Output: 555\n",
    "    print(\"Start Time:\", acqu_start_time)  # Output: 165697280"
   ]
  },
  {
   "cell_type": "code",
   "execution_count": null,
   "id": "1fe8082f",
   "metadata": {},
   "outputs": [],
   "source": [
    "np.int64(Fs)"
   ]
  },
  {
   "cell_type": "code",
   "execution_count": null,
   "id": "206d5b57",
   "metadata": {},
   "outputs": [],
   "source": [
    "smr_dir_name = 'D:\\\\AwakeData\\\\Deep Array\\\\230413\\\\Record Node 101\\\\experiment1\\\\recording4\\\\smr_triggers\\\\'\n",
    "smr_file_name = 'oe_tmj_230413_ori_003.csv'\n",
    "smr_file_name = smr_dir_name + smr_file_name\n",
    "print(smr_file_name)\n",
    "smr_triggers = smr.load_smr_triggers(smr_file_name)"
   ]
  },
  {
   "cell_type": "code",
   "execution_count": null,
   "id": "660bff24",
   "metadata": {},
   "outputs": [],
   "source": [
    "valid_trials = smr_triggers.IV>-1\n",
    "\n",
    "smr_triggers.loc[valid_trials, 'TrialStart'] -= acqu_start_time\n",
    "\n"
   ]
  },
  {
   "cell_type": "code",
   "execution_count": null,
   "id": "9823fd87",
   "metadata": {},
   "outputs": [],
   "source": [
    "smr_triggers.TrialStart[valid_trials]"
   ]
  },
  {
   "cell_type": "code",
   "execution_count": null,
   "id": "020ef24a",
   "metadata": {},
   "outputs": [],
   "source": [
    "trial_start =smr_triggers.TrialStart[valid_trials] - acqu_start_time"
   ]
  },
  {
   "cell_type": "code",
   "execution_count": null,
   "id": "d90ab3bb",
   "metadata": {},
   "outputs": [],
   "source": [
    "smr_triggers.loc"
   ]
  },
  {
   "cell_type": "code",
   "execution_count": null,
   "id": "0b4a7c53",
   "metadata": {},
   "outputs": [],
   "source": []
  }
 ],
 "metadata": {
  "kernelspec": {
   "display_name": "Python 3 (ipykernel)",
   "language": "python",
   "name": "python3"
  },
  "language_info": {
   "codemirror_mode": {
    "name": "ipython",
    "version": 3
   },
   "file_extension": ".py",
   "mimetype": "text/x-python",
   "name": "python",
   "nbconvert_exporter": "python",
   "pygments_lexer": "ipython3",
   "version": "3.11.3"
  }
 },
 "nbformat": 4,
 "nbformat_minor": 5
}
